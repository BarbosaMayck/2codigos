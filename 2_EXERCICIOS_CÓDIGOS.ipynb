{
  "nbformat": 4,
  "nbformat_minor": 0,
  "metadata": {
    "colab": {
      "provenance": []
    },
    "kernelspec": {
      "name": "python3",
      "display_name": "Python 3"
    },
    "language_info": {
      "name": "python"
    }
  },
  "cells": [
    {
      "cell_type": "code",
      "execution_count": null,
      "metadata": {
        "id": "dw8tePNKdmjn"
      },
      "outputs": [],
      "source": [
        "maiornota = float(input(\"Digite uma nota: \"))\n",
        "menornota = maiornota\n",
        "\n",
        "for i in range(7):\n",
        "    nota = float(input(f\"Digite uma nota {i}: \"))\n",
        "    if nota > maiornota:\n",
        "        maiornota = nota\n",
        "    elif nota < menornota:\n",
        "        menornota = nota\n",
        "\n",
        "print(f\"A maior nota é: {maiornota}\")\n",
        "print(f\"A menor nota é: {menornota}\")"
      ]
    },
    {
      "cell_type": "code",
      "source": [
        "soma = 0\n",
        "\n",
        "for i in range(10):\n",
        "    numero = int(input(f\"Digite o {i+1}º número inteiro: \"))\n",
        "    soma += numero\n",
        "\n",
        "print(\"A soma dos números é:\", soma)\n",
        "\n",
        "if soma > 1000:\n",
        "    print(\"A soma dos números ultrapassa 1000.\")\n",
        "\n",
        "else:\n",
        "    print(\"A soma dos números não ultrapassa 1000.\")"
      ],
      "metadata": {
        "id": "Behcn3Sfkldc"
      },
      "execution_count": null,
      "outputs": []
    },
    {
      "cell_type": "code",
      "source": [
        "pares = 0\n",
        "impares = 0\n",
        "\n",
        "numeroum = float(input(\"Digite um número: \"))\n",
        "numerodois = float(input(\"Digite um número: \"))\n",
        "numerotres = float(input(\"Digite um número: \"))\n",
        "numeroquatro = float(input(\"Digite um número: \"))\n",
        "numerocinco = float(input(\"Digite um número: \"))\n",
        "\n",
        "if numeroum % 2 == 0:\n",
        "    pares += 1\n",
        "else:\n",
        "    impares += 1\n",
        "\n",
        "if numerodois % 2 == 0:\n",
        "    pares += 1\n",
        "else:\n",
        "    impares += 1\n",
        "\n",
        "if numerotres % 2 == 0:\n",
        "    pares += 1\n",
        "else:\n",
        "    impares += 1\n",
        "\n",
        "if numeroquatro % 2 == 0:\n",
        "    pares += 1\n",
        "else:\n",
        "    impares += 1\n",
        "\n",
        "if numerocinco % 2 == 0:\n",
        "    pares += 1\n",
        "else:\n",
        "    impares += 1\n",
        "\n",
        "\n",
        "print(\"Quantidade de números pares:\", pares)\n",
        "print(\"Quantidade de números ímpares:\", impares)\n"
      ],
      "metadata": {
        "id": "35snj4rdYEHr"
      },
      "execution_count": null,
      "outputs": []
    },
    {
      "cell_type": "code",
      "source": [
        "valorum = float(input(\"Digite um valor: \"))\n",
        "valordois = float(input(\"Digite um valor: \"))\n",
        "valortres = float(input(\"Digite um valor: \"))\n",
        "valorquatro = float(input(\"Digite um valor: \"))\n",
        "valorcinco = float(input(\"Digite um valor: \"))\n",
        "\n",
        "if valorum > 0:\n",
        "    print(\"O valor é positivo.\")\n",
        "else:\n",
        "    print(\"O valor é negativo.\")\n",
        "\n",
        "if valordois > 0:\n",
        "    print(\"O valor é positivo.\")\n",
        "else:\n",
        "    print(\"O valor é negativo.\")\n",
        "\n",
        "if valortres > 0:\n",
        "    print(\"O valor é positivo.\")\n",
        "else:\n",
        "    print(\"O valor é negativo.\")\n",
        "\n",
        "if valorquatro > 0:\n",
        "    print(\"O valor é positivo.\")\n",
        "else:\n",
        "    print(\"O valor é negativo.\")\n",
        "\n",
        "if valorcinco > 0:\n",
        "    print(\"O valor é positivo.\")\n",
        "else:\n",
        "    print(\"O quinto valor é negativo.\")"
      ],
      "metadata": {
        "id": "nZp1UlZHK8Qe"
      },
      "execution_count": null,
      "outputs": []
    }
  ]
}